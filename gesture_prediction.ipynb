{
 "cells": [
  {
   "cell_type": "code",
   "execution_count": null,
   "metadata": {},
   "outputs": [],
   "source": [
    "#importing libraries\n",
    "import numpy as np\n",
    "import cv2\n",
    "import matplotlib.pyplot as plt\n",
    "import pynput\n",
    "from pynput.mouse import Button, Controller\n",
    "from pynput.keyboard import Key, Controller\n",
    "import time"
   ]
  },
  {
   "cell_type": "code",
   "execution_count": null,
   "metadata": {},
   "outputs": [],
   "source": [
    "cd Downloads"
   ]
  },
  {
   "cell_type": "code",
   "execution_count": null,
   "metadata": {},
   "outputs": [],
   "source": [
    "#load the model \n",
    "from keras.models import load_model\n",
    "loaded_model = load_model('25al_gestures.h5')"
   ]
  },
  {
   "cell_type": "code",
   "execution_count": null,
   "metadata": {},
   "outputs": [],
   "source": [
    "class operate_ppt:\n",
    "    \n",
    "    def __init__(self):\n",
    "        self.mouse = pynput.mouse.Controller()\n",
    "        self.keyboard = pynput.keyboard.Controller()\n",
    "    \n",
    "    def open_ppt(self):\n",
    "        self.mouse.position = (0, 0)\n",
    "        self.mouse.move(564,848)\n",
    "        self.mouse.press(Button.left)\n",
    "        self.mouse.release(Button.left)\n",
    "        time.sleep(1)\n",
    "    \n",
    "    def open_image(self):\n",
    "        self.mouse.position = (0, 0)\n",
    "        self.mouse.move(709, 839)\n",
    "        self.mouse.press(Button.left)\n",
    "        self.mouse.release(Button.left)\n",
    "        time.sleep(1)\n",
    "        \n",
    "    \n",
    "    def slide_show(self):\n",
    "        self.keyboard.press(Key.f5)\n",
    "        self.keyboard.release(Key.f5)\n",
    "        time.sleep(1)\n",
    "        \n",
    "    def escape(self):\n",
    "        self.keyboard.press(Key.esc)\n",
    "        self.keyboard.release(Key.esc)\n",
    "        time.sleep(1)"
   ]
  },
  {
   "cell_type": "code",
   "execution_count": null,
   "metadata": {},
   "outputs": [],
   "source": [
    "m = operate_ppt()"
   ]
  },
  {
   "cell_type": "code",
   "execution_count": null,
   "metadata": {},
   "outputs": [],
   "source": [
    "video = cv2.VideoCapture(0)\n",
    "\n",
    "coordinates = (140,50)\n",
    "font = cv2.FONT_HERSHEY_SIMPLEX\n",
    "fontscale = 0.5\n",
    "color = (255, 255, 255) \n",
    "start_point = (100, 100)\n",
    "end_point = (280, 280)\n",
    "\n",
    "while(True):\n",
    "    ret, background = video.read()\n",
    "    background = cv2.putText(background,\"Capturing BackGround .... , Don't Move Camera\",coordinates,font,fontscale ,color)\n",
    "    background = cv2.rectangle(background, start_point, end_point, color)\n",
    "    cv2.imshow('background', background)\n",
    "    \n",
    "    if cv2.waitKey(1) & 0xFF == ord('q'): \n",
    "        break\n",
    "        \n",
    "video.release() \n",
    "cv2.destroyAllWindows()\n",
    "\n",
    "video = cv2.VideoCapture(0)   \n",
    "while(True): \n",
    "    ret, frame = video.read() \n",
    "    background_gray = cv2.cvtColor(background,  cv2.COLOR_BGR2GRAY)\n",
    "    frame_gray  = cv2.cvtColor(frame, cv2.COLOR_BGR2GRAY)\n",
    "    \n",
    "    foreground_gray = frame_gray - background_gray\n",
    "    normalize = np.where(foreground_gray>=110,255,0)\n",
    "    normalize = normalize.astype(np.uint8)\n",
    "    \n",
    "    a1 = cv2.flip(normalize[100:280,100:280],1)\n",
    "    a = a1.reshape(1,180,180,1)\n",
    "    b = loaded_model.predict(a)\n",
    "    output1 = np.amax(b)\n",
    "    output = np.argmax(b[0])\n",
    "    \n",
    "    print(b,output1)\n",
    "    \n",
    "    gesture = \"\"    \n",
    "    if output1 == 1:\n",
    "        if output == 0:\n",
    "            gesture += '2'\n",
    "            m.open_ppt()\n",
    "\n",
    "        if output == 1:\n",
    "            gesture += '5'\n",
    "            m.slide_show()\n",
    "\n",
    "        if output == 2:\n",
    "            pass\n",
    "            gesture += 'A'\n",
    "\n",
    "        if output == 3:\n",
    "            gesture += 'L'\n",
    "            m.escape()\n",
    "        \n",
    "    normalize = cv2.putText(normalize,str(gesture),coordinates,font,fontscale ,color)\n",
    "    cv2.imshow(\"normalize\",normalize)\n",
    "    \n",
    "    \n",
    "    \n",
    "    if cv2.waitKey(1) & 0xFF == ord('q'): \n",
    "        break\n",
    "\n",
    "video.release()  \n",
    "cv2.destroyAllWindows() "
   ]
  }
 ],
 "metadata": {
  "kernelspec": {
   "display_name": "Python 3",
   "language": "python",
   "name": "python3"
  },
  "language_info": {
   "codemirror_mode": {
    "name": "ipython",
    "version": 3
   },
   "file_extension": ".py",
   "mimetype": "text/x-python",
   "name": "python",
   "nbconvert_exporter": "python",
   "pygments_lexer": "ipython3",
   "version": "3.8.8"
  }
 },
 "nbformat": 4,
 "nbformat_minor": 4
}
